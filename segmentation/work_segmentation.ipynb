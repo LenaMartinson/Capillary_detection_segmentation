{
 "cells": [
  {
   "cell_type": "markdown",
   "metadata": {},
   "source": [
    "## Convert Kili to train format"
   ]
  },
  {
   "cell_type": "code",
   "execution_count": 2,
   "metadata": {},
   "outputs": [],
   "source": [
    "import pandas as pd\n",
    "import matplotlib.pyplot as plt\n",
    "import numpy as np\n",
    "import shutil\n",
    "import os"
   ]
  },
  {
   "cell_type": "code",
   "execution_count": 61,
   "metadata": {},
   "outputs": [],
   "source": [
    "# Read csv\n",
    "kili_df = pd.read_csv(\"/home/martinson/datasets_csv/kili_segmentation.csv\")\n",
    "conv_df = pd.read_csv(\"/home/martinson/datasets_csv/dataset_conversation.csv\")\n",
    "\n",
    "# Transform to convinient format and delete unnecessary\n",
    "kili_df['source_path'] = kili_df['source_path'].apply(lambda x: x[3:])\n",
    "conv_df['source_path'] = conv_df['source_path'].apply(lambda x: x[15:] if x[:15] == \"D:\\\\measurements\" else None)\n",
    "conv_df = conv_df.dropna()"
   ]
  },
  {
   "cell_type": "code",
   "execution_count": 15,
   "metadata": {},
   "outputs": [],
   "source": [
    "# Take all unique paths (these are different images)\n",
    "source_path_unique = kili_df['source_path'].unique()\n",
    "\n",
    "# Extract image names from conversation csv\n",
    "image_names = []\n",
    "for i in source_path_unique:\n",
    "    image_names.append(list(conv_df[conv_df['source_path'] == i]['annotation_item_id'])[0])"
   ]
  },
  {
   "cell_type": "code",
   "execution_count": 29,
   "metadata": {},
   "outputs": [],
   "source": [
    "# Make new DataFrame with real image name and source path from kili\n",
    "df_img_ind = pd.DataFrame(columns=[\"image_name\", \"id\"])\n",
    "\n",
    "for i in range(len(image_names)):\n",
    "    inds = kili_df[kili_df['source_path'] == source_path_unique[i]].index\n",
    "    for j in inds:\n",
    "        df_img_ind.loc[len(df_img_ind)] = [image_names[i], j]"
   ]
  },
  {
   "cell_type": "code",
   "execution_count": 22,
   "metadata": {},
   "outputs": [],
   "source": [
    "# array for missed images\n",
    "all_mis = []\n",
    "\n",
    "# copy images from old folder to new one\n",
    "for i in image_names:\n",
    "    name_1 = \"/home/martinson/data_2/img_seg_2/\" + str(i) + \".png\"\n",
    "    name_2 = \"/home/martinson/data_2/images/\" + str(i) + \".png\"\n",
    "    try:\n",
    "        shutil.copy(name_2, name_1)\n",
    "    except:\n",
    "        all_mis.append(i)"
   ]
  },
  {
   "cell_type": "code",
   "execution_count": null,
   "metadata": {},
   "outputs": [],
   "source": [
    "# write missed images to file\n",
    "with open(\"missed.txt\", 'w') as f:\n",
    "    for i in all_mis:\n",
    "        f.write(str(i))\n",
    "        f.write(\"\\n\")"
   ]
  },
  {
   "cell_type": "code",
   "execution_count": 6,
   "metadata": {},
   "outputs": [],
   "source": [
    "# missed images was received and they are located in folder \"missing\"\n",
    "# copy missed images \n",
    "for i in os.listdir(\"/home/martinson/data_2/missing\"):\n",
    "    a = i.split(\".\")\n",
    "    name_2 = \"/home/martinson/data_2/missing/\" + i\n",
    "    name_1 = \"/home/martinson/data_2/images_segment/\" + a[0] + \".png\"\n",
    "    shutil.copy(name_2, name_1)"
   ]
  },
  {
   "cell_type": "code",
   "execution_count": 57,
   "metadata": {},
   "outputs": [],
   "source": [
    "# Make label files from kili\n",
    "for i in source_path_unique:\n",
    "    image_name = list(conv_df[conv_df['source_path'] == i]['annotation_item_id'])[0]\n",
    "    file_name = \"/home/martinson/data_2/labels_2/\" + str(image_name) + \".txt\"\n",
    "    with open(file_name, 'w') as f:\n",
    "        for j in kili_df[kili_df['source_path'] == i].values:\n",
    "            label = 0\n",
    "            if j[3] == 'SHARP_CAPILLARY':\n",
    "                label = 1\n",
    "            f.write(str(label))\n",
    "            f.write(\" \")\n",
    "            x = j[6][1:-1].split(\", \")\n",
    "            y = j[7][1:-1].split(\", \")\n",
    "            for k in range(len(x)):\n",
    "                f.write(x[k])\n",
    "                f.write(\" \")\n",
    "                f.write(y[k])\n",
    "                f.write(\" \")\n",
    "            f.write(\"\\n\")"
   ]
  },
  {
   "cell_type": "markdown",
   "metadata": {},
   "source": [
    "### Split to train, test, val"
   ]
  },
  {
   "cell_type": "code",
   "execution_count": 13,
   "metadata": {},
   "outputs": [],
   "source": [
    "from sklearn.model_selection import train_test_split"
   ]
  },
  {
   "cell_type": "code",
   "execution_count": null,
   "metadata": {},
   "outputs": [],
   "source": [
    "# split\n",
    "train, test = train_test_split(image_names, test_size=0.2, random_state=42)\n",
    "val, test = train_test_split(test, test_size=0.5, random_state=42)"
   ]
  },
  {
   "cell_type": "code",
   "execution_count": 16,
   "metadata": {},
   "outputs": [],
   "source": [
    "# to each txt file save image names\n",
    "# save splitted results\n",
    "with open(\"/home/martinson/data_2/test_seg.txt\", \"w\") as f:\n",
    "    for i in test:\n",
    "        f.write(\"/home/martinson/data_2/images/\" + str(i) + \".png\" + \"\\n\")\n",
    "\n",
    "with open(\"/home/martinson/data_2/train_seg.txt\", \"w\") as f:\n",
    "    for i in train:\n",
    "        f.write(\"/home/martinson/data_2/images/\" + str(i) + \".png\" + \"\\n\")\n",
    "\n",
    "with open(\"/home/martinson/data_2/val_seg.txt\", \"w\") as f:\n",
    "    for i in val:\n",
    "        f.write(\"/home/martinson/data_2/images/\" + str(i) + \".png\" + \"\\n\")"
   ]
  },
  {
   "cell_type": "markdown",
   "metadata": {},
   "source": [
    "## Work with new Kili\n",
    "\n",
    "Make same operations"
   ]
  },
  {
   "cell_type": "code",
   "execution_count": 5,
   "metadata": {},
   "outputs": [],
   "source": [
    "# read csv\n",
    "kili_new = pd.read_csv(\"/home/martinson/datasets_csv/df_kili_only_review.csv\")\n",
    "kili_new['source_path'] = kili_new['source_path'].apply(lambda x: x.split(\"/\")[-1].split(\".\")[0])"
   ]
  },
  {
   "cell_type": "code",
   "execution_count": 8,
   "metadata": {},
   "outputs": [],
   "source": [
    "# Take all unique paths (these are different images)\n",
    "source_path_unique = kili_new['source_path'].unique()"
   ]
  },
  {
   "cell_type": "code",
   "execution_count": 17,
   "metadata": {},
   "outputs": [],
   "source": [
    "# Make label files from kili\n",
    "for i in source_path_unique:\n",
    "    image_name = \"/home/martinson/data_small/images/\" + i + \".png\"\n",
    "    file_name = \"/home/martinson/data_small/labels/\" + i + \".txt\"\n",
    "    with open(file_name, 'w') as f:\n",
    "        for j in kili_new[kili_new['source_path'] == i].values:\n",
    "            label = [0]\n",
    "            if j[4] == 'SHARP_CAPILLARY':\n",
    "                label = [1]\n",
    "            # interpret \"INTERSECTION\" as 2 records: SHARP and BLURRY\n",
    "            if j[4] == 'INTERSECTION':\n",
    "                label = [0, 1]\n",
    "            x = j[8][1:-1].split(\", \")\n",
    "            y = j[9][1:-1].split(\", \")\n",
    "            for lb in label:\n",
    "                f.write(str(lb))\n",
    "                f.write(\" \")\n",
    "                for k in range(len(x)):\n",
    "                    f.write(x[k])\n",
    "                    f.write(\" \")\n",
    "                    f.write(y[k])\n",
    "                    f.write(\" \")\n",
    "            f.write(\"\\n\")"
   ]
  },
  {
   "cell_type": "code",
   "execution_count": 14,
   "metadata": {},
   "outputs": [],
   "source": [
    "# split for train and val\n",
    "train, val = train_test_split(source_path_unique, test_size=0.1, random_state=42)"
   ]
  },
  {
   "cell_type": "code",
   "execution_count": 15,
   "metadata": {},
   "outputs": [],
   "source": [
    "# to each txt file save image names\n",
    "# save splitted results\n",
    "with open(\"/home/martinson/data_small/train.txt\", 'w') as f:\n",
    "    for i in train:\n",
    "        image_name = \"/home/martinson/data_small/images/\" + i + \".png\"\n",
    "        f.write(image_name)\n",
    "        f.write(\"\\n\")\n",
    "\n",
    "with open(\"/home/martinson/data_small/val.txt\", 'w') as f:\n",
    "    for i in val:\n",
    "        image_name = \"/home/martinson/data_small/images/\" + i + \".png\"\n",
    "        f.write(image_name)\n",
    "        f.write(\"\\n\")"
   ]
  },
  {
   "cell_type": "code",
   "execution_count": null,
   "metadata": {},
   "outputs": [],
   "source": []
  }
 ],
 "metadata": {
  "kernelspec": {
   "display_name": "base",
   "language": "python",
   "name": "python3"
  },
  "language_info": {
   "codemirror_mode": {
    "name": "ipython",
    "version": 3
   },
   "file_extension": ".py",
   "mimetype": "text/x-python",
   "name": "python",
   "nbconvert_exporter": "python",
   "pygments_lexer": "ipython3",
   "version": "3.10.6"
  },
  "orig_nbformat": 4
 },
 "nbformat": 4,
 "nbformat_minor": 2
}
